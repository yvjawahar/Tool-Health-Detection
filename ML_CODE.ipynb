{
 "cells": [
  {
   "cell_type": "code",
   "execution_count": 10,
   "metadata": {},
   "outputs": [
    {
     "name": "stdout",
     "output_type": "stream",
     "text": [
      "Requirement already satisfied: xgboost in c:\\users\\hp\\appdata\\local\\programs\\python\\python312\\lib\\site-packages (2.0.2)\n",
      "Requirement already satisfied: numpy in c:\\users\\hp\\appdata\\local\\programs\\python\\python312\\lib\\site-packages (from xgboost) (1.26.1)\n",
      "Requirement already satisfied: scipy in c:\\users\\hp\\appdata\\local\\programs\\python\\python312\\lib\\site-packages (from xgboost) (1.11.3)\n",
      "Note: you may need to restart the kernel to use updated packages.\n",
      "Requirement already satisfied: joblib in c:\\users\\hp\\appdata\\local\\programs\\python\\python312\\lib\\site-packages (1.3.2)\n",
      "Note: you may need to restart the kernel to use updated packages.\n"
     ]
    }
   ],
   "source": [
    "%pip install xgboost\n",
    "%pip install joblib"
   ]
  },
  {
   "cell_type": "code",
   "execution_count": 2,
   "metadata": {},
   "outputs": [],
   "source": [
    "import pandas as pd\n",
    "from sklearn.model_selection import train_test_split\n",
    "from sklearn.preprocessing import LabelEncoder\n",
    "from sklearn.ensemble import RandomForestClassifier\n",
    "from sklearn.linear_model import LogisticRegression\n",
    "from sklearn.svm import SVC\n",
    "from sklearn.tree import DecisionTreeClassifier\n",
    "from xgboost import XGBClassifier\n",
    "from sklearn.neural_network import MLPClassifier\n",
    "from sklearn.metrics import accuracy_score, classification_report\n",
    "import matplotlib.pyplot as plt\n",
    "import numpy as np\n",
    "import joblib "
   ]
  },
  {
   "cell_type": "markdown",
   "metadata": {},
   "source": [
    "READING CSV FILE"
   ]
  },
  {
   "cell_type": "code",
   "execution_count": 6,
   "metadata": {},
   "outputs": [
    {
     "name": "stdout",
     "output_type": "stream",
     "text": [
      "   Frequency Quality\n",
      "0        245     low\n",
      "1        167    high\n",
      "2        173    high\n",
      "3        177    high\n",
      "4        169    high\n"
     ]
    }
   ],
   "source": [
    "# Load the dataset\n",
    "df_r = pd.read_csv('final_data.csv')\n",
    "df_u=pd.read_csv('undersample_concantenated_df.csv')\n",
    "# Assuming 'frequency' is the feature column and 'quality' is the target column\n",
    "X = df_r['Frequency']\n",
    "y = df_r['Quality']\n",
    "X = X.values.reshape(-1, 1)\n",
    "print(df_r.head())"
   ]
  },
  {
   "cell_type": "markdown",
   "metadata": {},
   "source": [
    "CONVERTING CATEGORICAL VALUES TO NUMERICAL VALUES FOR TARGET CLASS 'Quality"
   ]
  },
  {
   "cell_type": "code",
   "execution_count": 4,
   "metadata": {},
   "outputs": [],
   "source": [
    "# Encode the target variable (convert 'low', 'medium', 'high' to numerical values)\n",
    "label_encoder = LabelEncoder()\n",
    "y = label_encoder.fit_transform(y)\n",
    "\n",
    "# Split the dataset into training and testing sets\n",
    "X_train, X_test, y_train, y_test = train_test_split(X, y, test_size=0.2, random_state=42)"
   ]
  },
  {
   "cell_type": "markdown",
   "metadata": {},
   "source": [
    "DEFINING CLASSIFIERS"
   ]
  },
  {
   "cell_type": "code",
   "execution_count": 5,
   "metadata": {},
   "outputs": [],
   "source": [
    "classifiers = {\n",
    "    'Random Forest': RandomForestClassifier(n_estimators=100, random_state=42),\n",
    "    'Logistic Regression': LogisticRegression(random_state=42),\n",
    "    'SVM': SVC(random_state=42),\n",
    "    'Decision Tree': DecisionTreeClassifier(random_state=42),\n",
    "    'XGBoost': XGBClassifier(random_state=42),\n",
    "    'ANN': MLPClassifier( hidden_layer_sizes=(300,200,150,100),\n",
    "        max_iter=50,\n",
    "        random_state=42,\n",
    "        activation='tanh', \n",
    "        solver='adam', # Experiment with different activation functions\n",
    "        learning_rate='adaptive',  # Adaptive learning rate\n",
    "        alpha=0.0001,  # Regularization parameter\n",
    "        batch_size=64,  # Experiment with different batch sizes\n",
    "        early_stopping=True,  # Enable early stopping\n",
    "        n_iter_no_change=10) # Number of epochs with no improvement to wait for before stopping)\n",
    "}"
   ]
  },
  {
   "cell_type": "markdown",
   "metadata": {},
   "source": [
    "CLASSIFICATION REPORTS OF VARIOUS CLASSFIERS"
   ]
  },
  {
   "cell_type": "code",
   "execution_count": 12,
   "metadata": {},
   "outputs": [
    {
     "name": "stdout",
     "output_type": "stream",
     "text": [
      "\n",
      "Random Forest Classifier:\n",
      "Accuracy: 0.90\n",
      "Classification Report:\n",
      "               precision    recall  f1-score   support\n",
      "\n",
      "           0       0.93      0.79      0.86        34\n",
      "           1       1.00      1.00      1.00        27\n",
      "           2       0.81      0.94      0.87        32\n",
      "\n",
      "    accuracy                           0.90        93\n",
      "   macro avg       0.91      0.91      0.91        93\n",
      "weighted avg       0.91      0.90      0.90        93\n",
      "\n",
      "\n",
      "Logistic Regression Classifier:\n",
      "Accuracy: 0.90\n",
      "Classification Report:\n",
      "               precision    recall  f1-score   support\n",
      "\n",
      "           0       0.86      0.88      0.87        34\n",
      "           1       1.00      1.00      1.00        27\n",
      "           2       0.87      0.84      0.86        32\n",
      "\n",
      "    accuracy                           0.90        93\n",
      "   macro avg       0.91      0.91      0.91        93\n",
      "weighted avg       0.90      0.90      0.90        93\n",
      "\n",
      "\n",
      "SVM Classifier:\n",
      "Accuracy: 0.92\n",
      "Classification Report:\n",
      "               precision    recall  f1-score   support\n",
      "\n",
      "           0       0.85      0.97      0.90        34\n",
      "           1       1.00      1.00      1.00        27\n",
      "           2       0.96      0.81      0.88        32\n",
      "\n",
      "    accuracy                           0.92        93\n",
      "   macro avg       0.94      0.93      0.93        93\n",
      "weighted avg       0.93      0.92      0.92        93\n",
      "\n",
      "\n",
      "Decision Tree Classifier:\n",
      "Accuracy: 0.90\n",
      "Classification Report:\n",
      "               precision    recall  f1-score   support\n",
      "\n",
      "           0       0.93      0.79      0.86        34\n",
      "           1       1.00      1.00      1.00        27\n",
      "           2       0.81      0.94      0.87        32\n",
      "\n",
      "    accuracy                           0.90        93\n",
      "   macro avg       0.91      0.91      0.91        93\n",
      "weighted avg       0.91      0.90      0.90        93\n",
      "\n",
      "\n",
      "XGBoost Classifier:\n",
      "Accuracy: 0.90\n",
      "Classification Report:\n",
      "               precision    recall  f1-score   support\n",
      "\n",
      "           0       0.93      0.79      0.86        34\n",
      "           1       1.00      1.00      1.00        27\n",
      "           2       0.81      0.94      0.87        32\n",
      "\n",
      "    accuracy                           0.90        93\n",
      "   macro avg       0.91      0.91      0.91        93\n",
      "weighted avg       0.91      0.90      0.90        93\n",
      "\n",
      "\n",
      "ANN Classifier:\n",
      "Accuracy: 0.94\n",
      "Classification Report:\n",
      "               precision    recall  f1-score   support\n",
      "\n",
      "           0       0.85      1.00      0.92        34\n",
      "           1       1.00      1.00      1.00        27\n",
      "           2       1.00      0.81      0.90        32\n",
      "\n",
      "    accuracy                           0.94        93\n",
      "   macro avg       0.95      0.94      0.94        93\n",
      "weighted avg       0.95      0.94      0.93        93\n",
      "\n"
     ]
    }
   ],
   "source": [
    "accuracy_scores = {}\n",
    "trained_models = {}\n",
    "for name, clf in classifiers.items():\n",
    "    clf.fit(X_train, y_train)\n",
    "    y_pred = clf.predict(X_test)\n",
    "\n",
    "    accuracy = accuracy_score(y_test, y_pred)\n",
    "    accuracy_scores[name] = accuracy\n",
    "\n",
    "    report = classification_report(y_test, y_pred,zero_division=1)\n",
    "\n",
    "    print(f\"\\n{name} Classifier:\")\n",
    "    print(f\"Accuracy: {accuracy:.2f}\")\n",
    "    print(\"Classification Report:\\n\", report)\n",
    "    trained_models[name] = clf"
   ]
  },
  {
   "cell_type": "markdown",
   "metadata": {},
   "source": [
    "CLASSIFIERS X ACCURACY GRAPH"
   ]
  },
  {
   "cell_type": "code",
   "execution_count": 7,
   "metadata": {},
   "outputs": [
    {
     "data": {
      "image/png": "[encoded data removed]",
      "text/plain": [
       "<Figure size 1000x600 with 1 Axes>"
      ]
     },
     "metadata": {},
     "output_type": "display_data"
    }
   ],
   "source": [
    "# Plotting the accuracy scores\n",
    "plt.figure(figsize=(10, 6))\n",
    "colors = list(plt.cm.tab10(np.arange(len(accuracy_scores))))\n",
    "bars=plt.bar(accuracy_scores.keys(), accuracy_scores.values(),color=colors)\n",
    "plt.ylabel('Accuracy')\n",
    "plt.xlabel('Algorithms')    \n",
    "plt.title('Classifier Accuracy Comparison')\n",
    "for bar, accuracy in zip(bars, accuracy_scores.values()):\n",
    "    plt.text(bar.get_x() + bar.get_width() / 2 - 0.15, bar.get_height() + 0.01, f'{accuracy:.2f}', ha='center')\n",
    "plt.tight_layout()\n",
    "plt.show()"
   ]
  },
  {
   "cell_type": "code",
   "execution_count": 14,
   "metadata": {},
   "outputs": [
    {
     "data": {
      "text/plain": [
       "['mlp_model.joblib']"
      ]
     },
     "execution_count": 14,
     "metadata": {},
     "output_type": "execute_result"
    }
   ],
   "source": [
    "# Save the MLPClassifier model\n",
    "mlp_model = trained_models['ANN']\n",
    "joblib.dump(mlp_model, 'mlp_model.joblib')"
   ]
  },
  {
   "cell_type": "code",
   "execution_count": 15,
   "metadata": {},
   "outputs": [
    {
     "name": "stdout",
     "output_type": "stream",
     "text": [
      "Predicted classes: [0 2 2 0 1 1]\n"
     ]
    }
   ],
   "source": [
    "model = joblib.load('mlp_model.joblib')\n",
    "new_data = [[170],[190],[200],[140],[270],[290]]  # Your new input data\n",
    "predicted_classes = model.predict(new_data)\n",
    "print(\"Predicted classes:\", predicted_classes)"
   ]
  },
  {
   "cell_type": "code",
   "execution_count": null,
   "metadata": {},
   "outputs": [],
   "source": []
  }
 ],
 "metadata": {
  "kernelspec": {
   "display_name": "Python 3",
   "language": "python",
   "name": "python3"
  },
  "language_info": {
   "codemirror_mode": {
    "name": "ipython",
    "version": 3
   },
   "file_extension": ".py",
   "mimetype": "text/x-python",
   "name": "python",
   "nbconvert_exporter": "python",
   "pygments_lexer": "ipython3",
   "version": "3.12.0"
  }
 },
 "nbformat": 4,
 "nbformat_minor": 2
}
